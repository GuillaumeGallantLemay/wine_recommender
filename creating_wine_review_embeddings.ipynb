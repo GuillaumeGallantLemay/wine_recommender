{
 "cells": [
  {
   "cell_type": "markdown",
   "metadata": {},
   "source": [
    "## Wine Embeddings and a Wine Recommender\n",
    "\n",
    "### 1. Introduction\n",
    "\n",
    "One of the cornerstones of every chapter of the Robosomm series has been to extract descriptors from professional wine reviews, and to convert these into quantitative features. In doing so, we want to put ourselves in the shoes of a blind taster and extract only those descriptors that could be derived without knowing what the wine actually is. \n",
    "\n",
    "In this notebook, we will combine a couple of best-practice approaches highlighted in the existing literature on this subject and create an embedding for each wine review. We will use this to build a simple wine recommender."
   ]
  },
  {
   "cell_type": "code",
   "execution_count": 75,
   "metadata": {},
   "outputs": [],
   "source": [
    "import os\n",
    "import pandas as pd\n",
    "import numpy as np\n",
    "import string\n",
    "from operator import itemgetter\n",
    "from collections import Counter, OrderedDict\n",
    "\n",
    "from nltk.tokenize import word_tokenize, sent_tokenize\n",
    "from nltk.stem import SnowballStemmer\n",
    "from nltk.corpus import stopwords\n",
    "\n",
    "from gensim.models.phrases import Phrases, Phraser\n",
    "from gensim.models import Word2Vec\n",
    "\n",
    "from sklearn.feature_extraction.text import TfidfVectorizer\n",
    "from sklearn.metrics.pairwise import cosine_similarity\n",
    "from sklearn.neighbors import NearestNeighbors\n",
    "from sklearn.decomposition import PCA\n",
    "from matplotlib import pyplot as plt"
   ]
  },
  {
   "cell_type": "markdown",
   "metadata": {},
   "source": [
    "### 1. The Raw Dataset\n",
    "\n",
    "The raw dataset consists of roughly 150,000 wine reviews from www.winemag.com. These reviews span about 20 years and a few dozen grape varieties. These reviews have been scraped one variety at a time, so the first step is to consolidate the various CSV files with the results of the scraping exercise."
   ]
  },
  {
   "cell_type": "code",
   "execution_count": 206,
   "metadata": {},
   "outputs": [
    {
     "name": "stdout",
     "output_type": "stream",
     "text": [
      "(181303, 22)\n"
     ]
    }
   ],
   "source": [
    "base_location = r'C:\\Users\\roald\\Documents\\data_science_projects\\wine_styles_data'\n",
    "\n",
    "i = 0\n",
    "for file in os.listdir(base_location):\n",
    "    file_location = base_location + '/' + str(file)\n",
    "    if i==0:\n",
    "        wine_dataframe = pd.read_csv(file_location, encoding='latin-1')\n",
    "        i+=1\n",
    "    else:\n",
    "        df_to_append = pd.read_csv(file_location, encoding='latin-1', low_memory=False)\n",
    "        wine_dataframe = pd.concat([wine_dataframe, df_to_append], axis=0)\n",
    "\n",
    "wine_dataframe.drop_duplicates(subset=['Name'], inplace=True)\n",
    "print(wine_dataframe.shape)"
   ]
  },
  {
   "cell_type": "markdown",
   "metadata": {},
   "source": [
    "### 2. Extracting Wine Descrpitors\n",
    "\n",
    "To begin this analysis, we need to extract descriptors from our reviews and create a categorization of these descriptors at various levels of specificity. Here, I drew inspiration from some of the great work by Bernard Chen and others on the Computational Wine Wheel (https://www.springerprofessional.de/en/the-computational-wine-wheel-2-0-and-the-trimax-triclustering-in/10290536). \n",
    "\n",
    "Descriptors are extracted in a few steps, outlined in the cells below: first, all the wine reviews are conslidated into one large corpus. They are then tokenized into sentences."
   ]
  },
  {
   "cell_type": "code",
   "execution_count": 91,
   "metadata": {},
   "outputs": [
    {
     "name": "stdout",
     "output_type": "stream",
     "text": [
      "[\"Made in partnership with Alpha Omega Winery's Jean Hoefliger, this famous namesake wine embraces the fullness that is Napa Valley concentration and sunny richness, showing baked plum, cinnamon and generous tannin and oak.\", 'The backbone is plush and lush in texture, evolving as it opens in the glass.', 'Enjoy this in good time; should show best 2024â\\x80\\x932034.', 'Cabernet Sauvignon from esteemed Cold Creek Vineyard makes up the backbone of this wine.', 'Intoxicating aromas of assorted dried herbs, graphite, spice, tea leaf, coffee and black cherry are followed by tightly wound dark fruit flavors.']\n"
     ]
    }
   ],
   "source": [
    "reviews_list = list(wine_dataframe['Description'])\n",
    "reviews_list = [str(r) for r in reviews_list]\n",
    "full_corpus = ' '.join(reviews_list)\n",
    "sentences_tokenized = sent_tokenize(full_corpus)\n",
    "\n",
    "print(sentences_tokenized[:5])"
   ]
  },
  {
   "cell_type": "markdown",
   "metadata": {},
   "source": [
    "Next, the text in each sentence is normalized (tokenize, remove punctuation and remove stopwords)."
   ]
  },
  {
   "cell_type": "code",
   "execution_count": 92,
   "metadata": {},
   "outputs": [],
   "source": [
    "stop_words = set(stopwords.words('english')) \n",
    "\n",
    "punctuation_table = str.maketrans({key: None for key in string.punctuation})\n",
    "sno = SnowballStemmer('english')\n",
    "\n",
    "def normalize_text(raw_text):\n",
    "    try:\n",
    "        word_list = word_tokenize(raw_text)\n",
    "        normalized_sentence = []\n",
    "        for w in word_list:\n",
    "            try:\n",
    "                w = str(w)\n",
    "                lower_case_word = str.lower(w)\n",
    "                stemmed_word = sno.stem(lower_case_word)\n",
    "                no_punctuation = stemmed_word.translate(punctuation_table)\n",
    "                if len(no_punctuation) > 1 and no_punctuation not in stop_words:\n",
    "                    normalized_sentence.append(no_punctuation)\n",
    "            except:\n",
    "                continue\n",
    "        return normalized_sentence\n",
    "    except:\n",
    "        return ''\n",
    "\n",
    "# sentence_sample = sentences_tokenized[:10]\n",
    "normalized_sentences = []\n",
    "for s in sentences_tokenized:\n",
    "    normalized_text = normalize_text(s)\n",
    "    normalized_sentences.append(normalized_text)"
   ]
  },
  {
   "cell_type": "markdown",
   "metadata": {},
   "source": [
    "Not all of the terms we are interested in are single words. Some of the terms are phrases, consisting of two (or more!) words. An example of this might be 'high tannin'. We can use gensim's Phrases feature to extract all the most relevant bi- and tri-grams from our corpus."
   ]
  },
  {
   "cell_type": "code",
   "execution_count": 93,
   "metadata": {},
   "outputs": [],
   "source": [
    "phrases = Phrases(normalized_sentences)\n",
    "phrases = Phrases(phrases[normalized_sentences])\n",
    "\n",
    "ngrams = Phraser(phrases)\n",
    "\n",
    "phrased_sentences = []\n",
    "for sent in normalized_sentences:\n",
    "    phrased_sentence = ngrams[sent]\n",
    "    phrased_sentences.append(phrased_sentence)\n",
    "\n",
    "full_list_words = [item for sublist in phrased_sentences for item in sublist]"
   ]
  },
  {
   "cell_type": "markdown",
   "metadata": {},
   "source": [
    "Next, we will extract the most common words and rank these by how frequently they appear."
   ]
  },
  {
   "cell_type": "code",
   "execution_count": 94,
   "metadata": {},
   "outputs": [],
   "source": [
    "word_counts = Counter(full_list_words)\n",
    "sorted_counts = OrderedDict(word_counts.most_common(5000))\n",
    "counter_df = pd.DataFrame.from_dict(sorted_counts, orient='index')\n",
    "# top_5000_words = counter_df.head(5000)\n",
    "counter_df.to_csv('top_5000_descriptors.csv')"
   ]
  },
  {
   "cell_type": "markdown",
   "metadata": {},
   "source": [
    "Now for the most important part: leveraging existing wine theory, the work of others like Bernard Chen, wine descriptor mappings and the UC Davis wine wheel, the top 5000 most frequent wine terms were reviewed to (i) determine whether they are a descriptor that can be derived by blind tasting, and (ii) whether they are informative (judgments like 'tasty' and 'great' are not considered to be informative). The roughly 1000 descriptors that remain were then mapped onto a normalized descriptor, a category and a class:"
   ]
  },
  {
   "cell_type": "code",
   "execution_count": 95,
   "metadata": {},
   "outputs": [
    {
     "data": {
      "text/html": [
       "<div>\n",
       "<style scoped>\n",
       "    .dataframe tbody tr th:only-of-type {\n",
       "        vertical-align: middle;\n",
       "    }\n",
       "\n",
       "    .dataframe tbody tr th {\n",
       "        vertical-align: top;\n",
       "    }\n",
       "\n",
       "    .dataframe thead th {\n",
       "        text-align: right;\n",
       "    }\n",
       "</style>\n",
       "<table border=\"1\" class=\"dataframe\">\n",
       "  <thead>\n",
       "    <tr style=\"text-align: right;\">\n",
       "      <th></th>\n",
       "      <th>level_3</th>\n",
       "      <th>level_2</th>\n",
       "      <th>level_1</th>\n",
       "    </tr>\n",
       "    <tr>\n",
       "      <th>raw descriptor</th>\n",
       "      <th></th>\n",
       "      <th></th>\n",
       "      <th></th>\n",
       "    </tr>\n",
       "  </thead>\n",
       "  <tbody>\n",
       "    <tr>\n",
       "      <th>abras</th>\n",
       "      <td>abrasive</td>\n",
       "      <td>high_tannin</td>\n",
       "      <td>tannin</td>\n",
       "    </tr>\n",
       "    <tr>\n",
       "      <th>aciddriven</th>\n",
       "      <td>acid_driven</td>\n",
       "      <td>high_acid</td>\n",
       "      <td>acid</td>\n",
       "    </tr>\n",
       "    <tr>\n",
       "      <th>aggress</th>\n",
       "      <td>aggressive</td>\n",
       "      <td>high_acid</td>\n",
       "      <td>acid</td>\n",
       "    </tr>\n",
       "    <tr>\n",
       "      <th>airi</th>\n",
       "      <td>airy</td>\n",
       "      <td>light_bodied</td>\n",
       "      <td>body</td>\n",
       "    </tr>\n",
       "    <tr>\n",
       "      <th>alcohol_heat</th>\n",
       "      <td>hot</td>\n",
       "      <td>high_alcohol</td>\n",
       "      <td>alcohol</td>\n",
       "    </tr>\n",
       "    <tr>\n",
       "      <th>allspic</th>\n",
       "      <td>allspice</td>\n",
       "      <td>baking_spices</td>\n",
       "      <td>spice</td>\n",
       "    </tr>\n",
       "    <tr>\n",
       "      <th>almond</th>\n",
       "      <td>almond</td>\n",
       "      <td>nutty</td>\n",
       "      <td>nutty</td>\n",
       "    </tr>\n",
       "    <tr>\n",
       "      <th>almond_past</th>\n",
       "      <td>almond</td>\n",
       "      <td>nutty</td>\n",
       "      <td>nutty</td>\n",
       "    </tr>\n",
       "    <tr>\n",
       "      <th>alongsid_finegrain</th>\n",
       "      <td>finegrained_tannin</td>\n",
       "      <td>low_tannin</td>\n",
       "      <td>tannin</td>\n",
       "    </tr>\n",
       "    <tr>\n",
       "      <th>alongsid_polish</th>\n",
       "      <td>polished</td>\n",
       "      <td>low_tannin</td>\n",
       "      <td>tannin</td>\n",
       "    </tr>\n",
       "  </tbody>\n",
       "</table>\n",
       "</div>"
      ],
      "text/plain": [
       "                               level_3        level_2  level_1\n",
       "raw descriptor                                                \n",
       "abras                         abrasive    high_tannin   tannin\n",
       "aciddriven                 acid_driven      high_acid     acid\n",
       "aggress                     aggressive      high_acid     acid\n",
       "airi                              airy   light_bodied     body\n",
       "alcohol_heat                       hot   high_alcohol  alcohol\n",
       "allspic                       allspice  baking_spices    spice\n",
       "almond                          almond          nutty    nutty\n",
       "almond_past                     almond          nutty    nutty\n",
       "alongsid_finegrain  finegrained_tannin     low_tannin   tannin\n",
       "alongsid_polish               polished     low_tannin   tannin"
      ]
     },
     "execution_count": 95,
     "metadata": {},
     "output_type": "execute_result"
    }
   ],
   "source": [
    "descriptor_mapping = pd.read_csv('descriptor_mapping.csv').set_index('raw descriptor')\n",
    "descriptor_mapping.head(10)"
   ]
  },
  {
   "cell_type": "markdown",
   "metadata": {},
   "source": [
    "Next, any terms in the corpus that appear in the overview above are mapped onto the 'level_3' (the most specific) layer in the table."
   ]
  },
  {
   "cell_type": "code",
   "execution_count": 96,
   "metadata": {},
   "outputs": [],
   "source": [
    "def return_mapped_descriptor(word):\n",
    "    if word in list(descriptor_mapping.index):\n",
    "        normalized_word = descriptor_mapping['level_3'][word]\n",
    "        return normalized_word\n",
    "    else:\n",
    "        return word\n",
    "\n",
    "normalized_sentences = []\n",
    "for sent in phrased_sentences:\n",
    "    normalized_sentence = []\n",
    "    for word in sent:\n",
    "        normalized_word = return_mapped_descriptor(word)\n",
    "        normalized_sentence.append(str(normalized_word))\n",
    "    normalized_sentences.append(normalized_sentence)"
   ]
  },
  {
   "cell_type": "markdown",
   "metadata": {},
   "source": [
    "### 3. From Wine Descriptors to Word Embeddings\n",
    "\n",
    "We can now proceed to train a Word2Vec model on our normalized and descriptor-mapped corpus. This will allow us to get a word embedding for every term in the corpus. In order to reduce the overall size of the corpus, we will exclude any terms that appear fewer than 5 times across all the wine reviews."
   ]
  },
  {
   "cell_type": "code",
   "execution_count": 97,
   "metadata": {},
   "outputs": [
    {
     "name": "stdout",
     "output_type": "stream",
     "text": [
      "Word2Vec(vocab=19924, size=300, alpha=0.025)\n"
     ]
    }
   ],
   "source": [
    "wine_word2vec_model = Word2Vec(normalized_sentences, size=300, min_count=5, iter=15)\n",
    "print(wine_word2vec_model)\n",
    "\n",
    "wine_word2vec_model.save('wine_word2vec_model.bin')"
   ]
  },
  {
   "cell_type": "markdown",
   "metadata": {},
   "source": [
    "Let's take a closer look at our trained Word2Vec model - what wine descriptors are most similar to the word 'peach'?"
   ]
  },
  {
   "cell_type": "code",
   "execution_count": 98,
   "metadata": {},
   "outputs": [
    {
     "data": {
      "text/plain": [
       "[('stone_fruit', 0.7766212224960327),\n",
       " ('honeydew', 0.7047280669212341),\n",
       " ('nectarine', 0.675035834312439),\n",
       " ('mango', 0.65788334608078),\n",
       " ('yellowpeach', 0.6536487340927124),\n",
       " ('pear', 0.6373701095581055),\n",
       " ('apple', 0.6313578486442566),\n",
       " ('tangerine', 0.6175214052200317),\n",
       " ('peach_papaya', 0.6129261255264282),\n",
       " ('kiwi', 0.6106382608413696)]"
      ]
     },
     "execution_count": 98,
     "metadata": {},
     "output_type": "execute_result"
    }
   ],
   "source": [
    "wine_word2vec_model.wv.most_similar(positive='peach', topn=10)"
   ]
  },
  {
   "cell_type": "markdown",
   "metadata": {},
   "source": [
    "Excellent! These words are all relatively similar to the word peach. It seems that our Word2Vec model is working well. \n",
    "\n",
    "### 4. From Word Embeddings to Wine Review Embeddings\n",
    "\n",
    "Now, we need to find a way to create a single embedding for each wine review, combining all the relevant word embeddings contained within it.\n",
    "\n",
    "First, we will extract a set of mapped & normalized descriptors from each wine review. Unlike when we were training our Word2Vec model (when in-between words with semantic meaning could help create more accurate embeddings), we will remove any descriptors that do not feature in our list of 1000 curated descriptors. "
   ]
  },
  {
   "cell_type": "code",
   "execution_count": 100,
   "metadata": {},
   "outputs": [],
   "source": [
    "wine_reviews = list(wine_dataframe['Description'])\n",
    "\n",
    "def return_descriptor_from_mapping(word):\n",
    "    if word in list(descriptor_mapping.index):\n",
    "        descriptor_to_return = descriptor_mapping['level_3'][word]\n",
    "        return descriptor_to_return\n",
    "\n",
    "descriptorized_reviews = []\n",
    "for review in wine_reviews:\n",
    "    normalized_review = normalize_text(review)\n",
    "    phrased_review = ngrams[normalized_review]\n",
    "    descriptors_only = [return_descriptor_from_mapping(word) for word in phrased_review]\n",
    "    no_nones = [str(d) for d in descriptors_only if d is not None]\n",
    "    descriptorized_review = ' '.join(no_nones)\n",
    "    descriptorized_reviews.append(descriptorized_review)"
   ]
  },
  {
   "cell_type": "markdown",
   "metadata": {},
   "source": [
    "Not all descriptors are equally distinctive - 'fruity', for instance, is likely to appear very frequently across all wine reviews, whereas 'licorice' is much less common. In computing our 'review' embedding, we want to give a higher weighting to terms that are more infrequent in relative terms. We will do this by multiplying each word embedding by a TF-IDF (term frequency inverse document frequency) weighting. This takes into consideration both the frequency of each term across all reviews, as well as the number of descriptors in each wine review. "
   ]
  },
  {
   "cell_type": "code",
   "execution_count": 101,
   "metadata": {},
   "outputs": [
    {
     "data": {
      "text/html": [
       "<div>\n",
       "<style scoped>\n",
       "    .dataframe tbody tr th:only-of-type {\n",
       "        vertical-align: middle;\n",
       "    }\n",
       "\n",
       "    .dataframe tbody tr th {\n",
       "        vertical-align: top;\n",
       "    }\n",
       "\n",
       "    .dataframe thead th {\n",
       "        text-align: right;\n",
       "    }\n",
       "</style>\n",
       "<table border=\"1\" class=\"dataframe\">\n",
       "  <thead>\n",
       "    <tr style=\"text-align: right;\">\n",
       "      <th></th>\n",
       "      <th>index</th>\n",
       "      <th>Unnamed: 0</th>\n",
       "      <th>Alcohol</th>\n",
       "      <th>Appellation</th>\n",
       "      <th>Bottle Size</th>\n",
       "      <th>Category</th>\n",
       "      <th>Country</th>\n",
       "      <th>Date Published</th>\n",
       "      <th>Description</th>\n",
       "      <th>Designation</th>\n",
       "      <th>...</th>\n",
       "      <th>Reviewer</th>\n",
       "      <th>Reviewer Twitter Handle</th>\n",
       "      <th>Subregion</th>\n",
       "      <th>User Avg Rating</th>\n",
       "      <th>Variety</th>\n",
       "      <th>Vintage</th>\n",
       "      <th>Winery</th>\n",
       "      <th>normalized_descriptors</th>\n",
       "      <th>review_vector</th>\n",
       "      <th>descriptor_count</th>\n",
       "    </tr>\n",
       "  </thead>\n",
       "  <tbody>\n",
       "    <tr>\n",
       "      <th>0</th>\n",
       "      <td>0</td>\n",
       "      <td>0.0</td>\n",
       "      <td>14.9%</td>\n",
       "      <td>Napa Valley, Napa, California, US</td>\n",
       "      <td>750 ml</td>\n",
       "      <td>Red</td>\n",
       "      <td>US</td>\n",
       "      <td>7/1/2019</td>\n",
       "      <td>Made in partnership with Alpha Omega Winery's ...</td>\n",
       "      <td>MR</td>\n",
       "      <td>...</td>\n",
       "      <td>Virginie Boone</td>\n",
       "      <td>@vboone</td>\n",
       "      <td>Napa Valley</td>\n",
       "      <td>Not rated yet [Add Your Review]</td>\n",
       "      <td>Bordeaux-style Red Blend</td>\n",
       "      <td>2014.0</td>\n",
       "      <td>Michel Rolland Napa Valley</td>\n",
       "      <td>[concentrated, rich, baked, plum, cinnamon, oa...</td>\n",
       "      <td>[[-1.6203853, 1.0555973, 5.058047, -0.07586262...</td>\n",
       "      <td>8</td>\n",
       "    </tr>\n",
       "    <tr>\n",
       "      <th>1</th>\n",
       "      <td>1</td>\n",
       "      <td>1.0</td>\n",
       "      <td>14.5%</td>\n",
       "      <td>Columbia Valley (WA), Columbia Valley, Washing...</td>\n",
       "      <td>750 ml</td>\n",
       "      <td>Red</td>\n",
       "      <td>US</td>\n",
       "      <td>7/1/2019</td>\n",
       "      <td>Cabernet Sauvignon from esteemed Cold Creek Vi...</td>\n",
       "      <td>NaN</td>\n",
       "      <td>...</td>\n",
       "      <td>Sean P. Sullivan</td>\n",
       "      <td>@wawinereport</td>\n",
       "      <td>Columbia Valley (WA)</td>\n",
       "      <td>Not rated yet [Add Your Review]</td>\n",
       "      <td>Bordeaux-style Red Blend</td>\n",
       "      <td>2014.0</td>\n",
       "      <td>21 Grams</td>\n",
       "      <td>[dry, herb, graphite, spice, tea, coffee, cher...</td>\n",
       "      <td>[[-0.69587994, -0.57188, 1.6246213, -2.5362446...</td>\n",
       "      <td>12</td>\n",
       "    </tr>\n",
       "    <tr>\n",
       "      <th>2</th>\n",
       "      <td>2</td>\n",
       "      <td>2.0</td>\n",
       "      <td>13.6%</td>\n",
       "      <td>Paso Robles, Central Coast, California, US</td>\n",
       "      <td>750 ml</td>\n",
       "      <td>Red</td>\n",
       "      <td>US</td>\n",
       "      <td>7/1/2019</td>\n",
       "      <td>Lush black-raspberry and black-plum aromas com...</td>\n",
       "      <td>Nikiara</td>\n",
       "      <td>...</td>\n",
       "      <td>Matt Kettmann</td>\n",
       "      <td>@mattkettmann</td>\n",
       "      <td>Paso Robles</td>\n",
       "      <td>Not rated yet [Add Your Review]</td>\n",
       "      <td>Bordeaux-style Red Blend</td>\n",
       "      <td>2016.0</td>\n",
       "      <td>Le Vigne</td>\n",
       "      <td>[lush, plum, incense, umami, white_pepper, roa...</td>\n",
       "      <td>[[-1.2084105, -2.9379678, 0.7938164, -0.132832...</td>\n",
       "      <td>8</td>\n",
       "    </tr>\n",
       "    <tr>\n",
       "      <th>3</th>\n",
       "      <td>3</td>\n",
       "      <td>3.0</td>\n",
       "      <td>14.8%</td>\n",
       "      <td>Adelaida District, Central Coast, California, US</td>\n",
       "      <td>750 ml</td>\n",
       "      <td>Red</td>\n",
       "      <td>US</td>\n",
       "      <td>7/1/2019</td>\n",
       "      <td>Bright aromas of blackberry, violet and cedar ...</td>\n",
       "      <td>NaN</td>\n",
       "      <td>...</td>\n",
       "      <td>Matt Kettmann</td>\n",
       "      <td>@mattkettmann</td>\n",
       "      <td>Adelaida District</td>\n",
       "      <td>Not rated yet [Add Your Review]</td>\n",
       "      <td>Meritage, Bordeaux-style Red Blend</td>\n",
       "      <td>2016.0</td>\n",
       "      <td>Brecon Estate</td>\n",
       "      <td>[bright, blackberry, violet, cedar, tight, ber...</td>\n",
       "      <td>[[-1.9579656, -3.495587, 3.1620667, -1.6078877...</td>\n",
       "      <td>8</td>\n",
       "    </tr>\n",
       "    <tr>\n",
       "      <th>4</th>\n",
       "      <td>4</td>\n",
       "      <td>4.0</td>\n",
       "      <td>14.5%</td>\n",
       "      <td>Aconcagua Valley, Chile</td>\n",
       "      <td>750 ml</td>\n",
       "      <td>Red</td>\n",
       "      <td>Chile</td>\n",
       "      <td>7/1/2019</td>\n",
       "      <td>Spicy cherry and coffee aromas drive a traditi...</td>\n",
       "      <td>Capa</td>\n",
       "      <td>...</td>\n",
       "      <td>Michael Schachner</td>\n",
       "      <td>@wineschach</td>\n",
       "      <td>NaN</td>\n",
       "      <td>Not rated yet [Add Your Review]</td>\n",
       "      <td>Bordeaux-style Red Blend</td>\n",
       "      <td>2014.0</td>\n",
       "      <td>Conde de VelÃ¡zquez</td>\n",
       "      <td>[spice, cherry, coffee, dry, choppy, cassis, c...</td>\n",
       "      <td>[[-2.5236423, -2.0405033, 2.8112369, -2.394661...</td>\n",
       "      <td>10</td>\n",
       "    </tr>\n",
       "  </tbody>\n",
       "</table>\n",
       "<p>5 rows × 26 columns</p>\n",
       "</div>"
      ],
      "text/plain": [
       "   index  Unnamed: 0 Alcohol  \\\n",
       "0      0         0.0   14.9%   \n",
       "1      1         1.0   14.5%   \n",
       "2      2         2.0   13.6%   \n",
       "3      3         3.0   14.8%   \n",
       "4      4         4.0   14.5%   \n",
       "\n",
       "                                         Appellation Bottle Size Category  \\\n",
       "0                  Napa Valley, Napa, California, US      750 ml      Red   \n",
       "1  Columbia Valley (WA), Columbia Valley, Washing...      750 ml      Red   \n",
       "2         Paso Robles, Central Coast, California, US      750 ml      Red   \n",
       "3   Adelaida District, Central Coast, California, US      750 ml      Red   \n",
       "4                            Aconcagua Valley, Chile      750 ml      Red   \n",
       "\n",
       "  Country Date Published                                        Description  \\\n",
       "0      US       7/1/2019  Made in partnership with Alpha Omega Winery's ...   \n",
       "1      US       7/1/2019  Cabernet Sauvignon from esteemed Cold Creek Vi...   \n",
       "2      US       7/1/2019  Lush black-raspberry and black-plum aromas com...   \n",
       "3      US       7/1/2019  Bright aromas of blackberry, violet and cedar ...   \n",
       "4   Chile       7/1/2019  Spicy cherry and coffee aromas drive a traditi...   \n",
       "\n",
       "  Designation       ...                  Reviewer Reviewer Twitter Handle  \\\n",
       "0          MR       ...            Virginie Boone                 @vboone   \n",
       "1         NaN       ...          Sean P. Sullivan           @wawinereport   \n",
       "2     Nikiara       ...             Matt Kettmann           @mattkettmann   \n",
       "3         NaN       ...             Matt Kettmann           @mattkettmann   \n",
       "4        Capa       ...         Michael Schachner             @wineschach   \n",
       "\n",
       "              Subregion                  User Avg Rating  \\\n",
       "0           Napa Valley  Not rated yet [Add Your Review]   \n",
       "1  Columbia Valley (WA)  Not rated yet [Add Your Review]   \n",
       "2           Paso Robles  Not rated yet [Add Your Review]   \n",
       "3     Adelaida District  Not rated yet [Add Your Review]   \n",
       "4                   NaN  Not rated yet [Add Your Review]   \n",
       "\n",
       "                              Variety Vintage                      Winery  \\\n",
       "0            Bordeaux-style Red Blend  2014.0  Michel Rolland Napa Valley   \n",
       "1            Bordeaux-style Red Blend  2014.0                    21 Grams   \n",
       "2            Bordeaux-style Red Blend  2016.0                    Le Vigne   \n",
       "3  Meritage, Bordeaux-style Red Blend  2016.0               Brecon Estate   \n",
       "4            Bordeaux-style Red Blend  2014.0         Conde de VelÃ¡zquez   \n",
       "\n",
       "                              normalized_descriptors  \\\n",
       "0  [concentrated, rich, baked, plum, cinnamon, oa...   \n",
       "1  [dry, herb, graphite, spice, tea, coffee, cher...   \n",
       "2  [lush, plum, incense, umami, white_pepper, roa...   \n",
       "3  [bright, blackberry, violet, cedar, tight, ber...   \n",
       "4  [spice, cherry, coffee, dry, choppy, cassis, c...   \n",
       "\n",
       "                                       review_vector descriptor_count  \n",
       "0  [[-1.6203853, 1.0555973, 5.058047, -0.07586262...                8  \n",
       "1  [[-0.69587994, -0.57188, 1.6246213, -2.5362446...               12  \n",
       "2  [[-1.2084105, -2.9379678, 0.7938164, -0.132832...                8  \n",
       "3  [[-1.9579656, -3.495587, 3.1620667, -1.6078877...                8  \n",
       "4  [[-2.5236423, -2.0405033, 2.8112369, -2.394661...               10  \n",
       "\n",
       "[5 rows x 26 columns]"
      ]
     },
     "execution_count": 101,
     "metadata": {},
     "output_type": "execute_result"
    }
   ],
   "source": [
    "vectorizer = TfidfVectorizer()\n",
    "X = vectorizer.fit(descriptorized_reviews)\n",
    "\n",
    "dict_of_tfidf_weightings = dict(zip(X.get_feature_names(), X.idf_))\n",
    "\n",
    "wine_review_vectors = []\n",
    "for d in descriptorized_reviews:\n",
    "    descriptor_count = 0\n",
    "    weighted_review_terms = []\n",
    "    terms = d.split(' ')\n",
    "    for term in terms:\n",
    "        if term in dict_of_tfidf_weightings.keys():\n",
    "            tfidf_weighting = dict_of_tfidf_weightings[term]\n",
    "            word_vector = wine_word2vec_model.wv.get_vector(term).reshape(1, 300)\n",
    "            weighted_word_vector = tfidf_weighting * word_vector\n",
    "            weighted_review_terms.append(weighted_word_vector)\n",
    "            descriptor_count += 1\n",
    "        else:\n",
    "            continue\n",
    "    try:\n",
    "        review_vector = sum(weighted_review_terms)/len(weighted_review_terms)\n",
    "    except:\n",
    "        review_vector = []\n",
    "    vector_and_count = [terms, review_vector, descriptor_count]\n",
    "    wine_review_vectors.append(vector_and_count)\n",
    "\n",
    "wine_dataframe['normalized_descriptors'] = list(map(itemgetter(0), wine_review_vectors))\n",
    "wine_dataframe['review_vector'] = list(map(itemgetter(1), wine_review_vectors))\n",
    "wine_dataframe['descriptor_count'] = list(map(itemgetter(2), wine_review_vectors))\n",
    "\n",
    "wine_dataframe.reset_index(inplace=True)\n",
    "wine_dataframe.head()"
   ]
  },
  {
   "cell_type": "markdown",
   "metadata": {},
   "source": [
    "To summarize, we generate a single vector for each wine review by going through the following steps:\n",
    "\n",
    "1. Normalize words in wine review (remove stopwords, punctuation, stemming)\n",
    "2. Enhance the set of normalized words with phrases (bi-grams and tri-grams)\n",
    "3. Apply mapping of wine terms to each review, keeping only those mapped phrases & words that have been deemed relevant and mapping these to our curated level 3 descriptors\n",
    "4. Retrieve the Word2Vec word embedding for each mapped term in the review\n",
    "5. Weight each word embedding in the wine review with a TF-IDF weighting\n",
    "6. Sum the word embeddings within each wine review to create a single vector representation of the wine review\n",
    "\n",
    "### 5. Exploring our Wine Review Vectors\n",
    "\n",
    "#### 5.1 Similarities Between Grape Varieties\n",
    "\n",
    "Now that we have a vector representation of each wine review, we can start to explore potential uses of this data. Before we turn our attention to the creation of a wine recommendation engine, we will take a look at the similarities between grape varieties. We will do this by taking the average of all wine review vectors for each grape variety, compressing them into two dimensions using PCA (Principal Component Analysis) and then producing a visual mapping."
   ]
  },
  {
   "cell_type": "code",
   "execution_count": 118,
   "metadata": {},
   "outputs": [],
   "source": [
    "# first, let's eliminate any review with fewer than 5 descriptors from our dataset\n",
    "wine_reviews_mincount = wine_dataframe.loc[wine_dataframe['descriptor_count'] > 5]\n",
    "wine_reviews_mincount.reset_index(inplace=True)\n",
    "\n",
    "variety_mapping = {'Shiraz': 'Syrah', 'Pinot Gris': 'Pinot Grigio', 'Pinot Grigio/Gris': 'Pinot Grigio', \n",
    "                   'Garnacha, Grenache': 'Grenache', 'Garnacha': 'Grenache', 'CarmenÃ¨re': 'Carmenere',\n",
    "                    'GrÃ¼ner Veltliner': 'Gruner Veltliner', 'TorrontÃ©s': 'Torrontes', \n",
    "                   'RhÃ´ne-style Red Blend': 'Rhone-style Red Blend', 'AlbariÃ±o': 'Albarino',\n",
    "                  'GewÃ¼rztraminer': 'Gewurztraminer', 'RhÃ´ne-style White Blend': 'Rhone-style White Blend'}\n",
    "\n",
    "def consolidate_varieties(variety_name):\n",
    "    if variety_name in variety_mapping:\n",
    "        return variety_mapping[variety_name]\n",
    "    else:\n",
    "        return variety_name\n",
    "\n",
    "wine_reviews_clean = wine_reviews_mincount.copy()\n",
    "wine_reviews_clean['Variety'] = wine_reviews_clean['Variety'].apply(consolidate_varieties)\n",
    "\n",
    "def subset_wine_vectors(list_of_varieties):\n",
    "    wine_variety_vectors = []\n",
    "    for v in list_of_varieties:\n",
    "        one_var_only = wine_reviews_clean.loc[wine_reviews_clean['Variety'] == v]\n",
    "        review_arrays = one_var_only['review_vector'].apply(lambda x: x[0])\n",
    "        average_variety_vec = np.average(review_arrays)\n",
    "        wine_variety_vector = [v, average_variety_vec]\n",
    "        wine_variety_vectors.append(wine_variety_vector)\n",
    "    return wine_variety_vectors\n",
    "\n",
    "def pca_wine_variety(list_of_varieties):\n",
    "    wine_var_vectors = subset_wine_vectors(list_of_varieties)\n",
    "    pca = PCA(n_components=2)\n",
    "    pca.fit([w[1] for w in wine_var_vectors])  \n",
    "    pca_dataset = pca.fit_transform([w[1] for w in wine_var_vectors])\n",
    "    pca_dataframe = pd.DataFrame(pca_dataset, columns=['pca_1', 'pca_2'])\n",
    "    pca_dataframe.index = [w[0] for w in wine_var_vectors]\n",
    "    # print(pca_dataframe)\n",
    "    return pca_dataframe"
   ]
  },
  {
   "cell_type": "code",
   "execution_count": 199,
   "metadata": {},
   "outputs": [
    {
     "data": {
      "image/png": "[encoded data removed]",
      "text/plain": [
       "<Figure size 1080x576 with 1 Axes>"
      ]
     },
     "metadata": {
      "needs_background": "light"
     },
     "output_type": "display_data"
    }
   ],
   "source": [
    "most_common_whites = ['Chardonnay', 'Sauvignon Blanc', 'Riesling', 'Pinot Grigio', \n",
    "                        'Gruner Veltliner', 'Viognier', 'Chenin Blanc', 'Albarino', 'Pinot Blanc', 'Verdejo',\n",
    "                        'Torrontes', 'Vermentino', 'Melon', 'Gewurztraminer', 'Rhone-style White Blend']\n",
    "\n",
    "pca_w_dataframe = pca_wine_variety(most_common_whites)\n",
    "plt.figure(figsize=(15, 8))\n",
    "plt.scatter(x=pca_w_dataframe['pca_1'], y=pca_w_dataframe['pca_2'])\n",
    "for i, txt in enumerate(pca_w_dataframe.index):\n",
    "    plt.annotate(txt, (list(pca_w_dataframe['pca_1'])[i]+0.2, list(pca_w_dataframe['pca_2'])[i]-0.1), fontsize=12)\n",
    "\n",
    "plt.xlabel('PCA Factor 1')\n",
    "plt.ylabel('PCA Factor 2')\n",
    "plt.title('Average Wine Embeddings for Most Common White Wines', fontsize=16)\n",
    "plt.show()"
   ]
  },
  {
   "cell_type": "markdown",
   "metadata": {},
   "source": [
    "At a glance, it appears that the dryer grape varieties (Albarino, Verdejo, Sauvignon Blanc, Melon) are more on the top half of this plot. Slightly sweeter and full-bodied grape varieties such as Chardonnay, Chenin Blanc and Viognier feature on the bottom half of this plot. It is noteworthy how close together Pinot Grigio and Riesling are in the diagram above. It is worth noting that we cannot capture all the variation between these grape varieties in two dimensions, so the above plot is somewhat imperfect. Nevertheless, let's go through the same exercise for the red grape varieties to see what we can learn."
   ]
  },
  {
   "cell_type": "code",
   "execution_count": 204,
   "metadata": {},
   "outputs": [
    {
     "data": {
      "image/png": "[encoded data removed]",
      "text/plain": [
       "<Figure size 1080x576 with 1 Axes>"
      ]
     },
     "metadata": {
      "needs_background": "light"
     },
     "output_type": "display_data"
    }
   ],
   "source": [
    "most_common_reds = ['Pinot Noir', 'Cabernet Sauvignon', 'Bordeaux-style Red Blend', 'Syrah', 'Merlot',\n",
    "                         'Sangiovese', 'Zinfandel', 'Tempranillo', 'Nebbiolo', 'Portuguese Red', 'Malbec',\n",
    "                         'Rhone-style Red Blend', 'Cabernet Franc', 'Gamay','Tempranillo Blend, Tempranillo', 'Petite Sirah',\n",
    "                        'Barbera', \"Nero d'Avola, Italian Red\"]\n",
    "\n",
    "pca_r_dataframe = pca_wine_variety(most_common_reds)\n",
    "plt.figure(figsize=(15, 8))\n",
    "plt.scatter(x=pca_r_dataframe['pca_1'], y=pca_r_dataframe['pca_2'])\n",
    "for i, txt in enumerate(pca_r_dataframe.index):\n",
    "    plt.annotate(txt, (list(pca_r_dataframe['pca_1'])[i]+0.2, list(pca_r_dataframe['pca_2'])[i]-0.1), fontsize=12)\n",
    "\n",
    "plt.xlabel('PCA Factor 1')\n",
    "plt.ylabel('PCA Factor 2')\n",
    "plt.title('Average Wine Embeddings for Most Common Red Wines', fontsize=16)\n",
    "plt.show()"
   ]
  },
  {
   "cell_type": "markdown",
   "metadata": {},
   "source": [
    "Plotting the most common red wines, we can see that the Italian grape varieties all sit in the bottom left-hand quadrant of the plot above. It is also noteworthy that Merlot and Cabernet Sauvignon are so close together - this is not surprising, since these two grape varieties are genetically very similar. It is somewhat surprising that Gamay (which produces light-bodied reds that are, in my experience, somewhat similar to Pinot Noir) is way off on the right-hand side of the graph, relatively close to Bordeaux-style Red Blends. \n",
    "\n",
    "#### 5.2 Wine Recommender\n",
    "\n",
    "We can also use our wine review vectors to make wine suggestions. We can do this by using a nearest neighbors model, which calculates the cosine distance between various wine review vectors. The vectorized wine reviews that lie closest to one another are returned as suggestions."
   ]
  },
  {
   "cell_type": "markdown",
   "metadata": {},
   "source": []
  },
  {
   "cell_type": "code",
   "execution_count": null,
   "metadata": {},
   "outputs": [],
   "source": [
    "input_vectors = list(wine_reviews_mincount['review_vector'])\n",
    "input_vectors_listed = [a.tolist() for a in input_vectors]\n",
    "input_vectors_listed = [a[0] for a in input_vectors_listed]\n",
    "\n",
    "knn = NearestNeighbors(n_neighbors=10, algorithm= 'brute', metric='cosine')\n",
    "model_knn = knn.fit(input_vectors_listed)"
   ]
  },
  {
   "cell_type": "markdown",
   "metadata": {},
   "source": [
    "First, let's see what suggestions are returned when we feed this nearest neighbors algorithm a wine we like. To demonstrate this, we have chosen a random wine from our dataset - a Pinot Noir from Santa Barbara, California."
   ]
  },
  {
   "cell_type": "code",
   "execution_count": 167,
   "metadata": {},
   "outputs": [
    {
     "name": "stdout",
     "output_type": "stream",
     "text": [
      "Wine to match: Point & Line 2016 John Sebastiano Vineyard Reserve Pinot Noir (Sta. Rita Hills)\n",
      "The original wine has the following descriptors: ['dry', 'flower', 'sage', 'elegant', 'tarragon', 'pepper', 'tangy', 'cranberry', 'light_bodied']\n",
      "_________\n",
      "Suggestion 1 : Scheid 2015 Doctor's Vineyard Pinot Noir (Santa Lucia Highlands) with a cosine distance of 0.067\n",
      "This wine has the following descriptors: ['light_bodied', 'sage', 'spice', 'depth', 'cranberry', 'earth', 'herb', 'dry', 'sage', 'pepper', 'zesty', 'fruit']\n",
      "\n",
      "Suggestion 2 : Hug 2016 Steiner Creek Pinot Noir (San Luis Obispo County) with a cosine distance of 0.069\n",
      "This wine has the following descriptors: ['fresh', 'raspberry', 'thyme', 'pepper', 'rosemary', 'sage', 'dry', 'sage', 'mint', 'forest_floor', 'light_bodied', 'cranberry_pomegranate', 'tangy']\n",
      "\n",
      "Suggestion 3 : Ojai 2014 Pinot Noir (Santa Barbara County) with a cosine distance of 0.074\n",
      "This wine has the following descriptors: ['light_bodied', 'rose', 'ripe', 'cranberry', 'sage', 'dry', 'sweet', 'basil', 'dry', 'herb', 'fennel', 'bay_leaf', 'fruit']\n",
      "\n",
      "Suggestion 4 : Ryan Cochrane 2014 Fiddlestix Vineyard Pinot Noir (Sta. Rita Hills) with a cosine distance of 0.075\n",
      "This wine has the following descriptors: ['light_bodied', 'thyme', 'cranberry', 'tart', 'wet_clay', 'light_bodied', 'tangy', 'cherry', 'juicy', 'fennel', 'olive', 'pepper', 'spice']\n",
      "\n",
      "Suggestion 5 : Tantara 2016 La Encantada Pinot Noir (Sta. Rita Hills) with a cosine distance of 0.076\n",
      "This wine has the following descriptors: ['raspberry', 'hibiscus', 'spice', 'herb', 'edgy', 'dry', 'sage', 'thyme', 'pepper', 'tangy', 'cranberry', 'olive']\n",
      "\n",
      "Suggestion 6 : Betz Family 2013 PÃ¨re de Famille Cabernet Sauvignon (Columbia Valley (WA)) with a cosine distance of 0.078\n",
      "This wine has the following descriptors: ['dry', 'herb', 'bay_leaf', 'spice', 'dry', 'flower', 'dark', 'fruit', 'tart', 'cranberry', 'cherry', 'fresh', 'elegant']\n",
      "\n",
      "Suggestion 7 : San Simeon 2017 Pinot Noir (Monterey) with a cosine distance of 0.079\n",
      "This wine has the following descriptors: ['light_bodied', 'candy', 'pomegranate', 'sweet', 'sage', 'bay_leaf', 'hibiscus', 'graphite', 'minerality', 'fresh', 'bright', 'cherry', 'dry', 'herb', 'white_pepper']\n",
      "\n",
      "Suggestion 8 : Tantara 2014 Dierberg Vineyard Pinot Noir (Santa Maria Valley) with a cosine distance of 0.080\n",
      "This wine has the following descriptors: ['zesty', 'fresh', 'leafy', 'cooked', 'cranberry', 'dry', 'light_bodied', 'berry', 'cherry', 'dry', 'basil', 'tomato', 'pepper', 'bay_leaf', 'sage', 'shine']\n",
      "\n"
     ]
    }
   ],
   "source": [
    "name_test = \"Point & Line 2016 John Sebastiano Vineyard Reserve Pinot Noir (Sta. Rita Hills)\"\n",
    "\n",
    "wine_test_vector = wine_reviews_mincount.loc[wine_reviews_mincount['Name'] == name_test]['review_vector'].tolist()[0]\n",
    "distance, indice = model_knn.kneighbors(wine_test_vector, n_neighbors=9)\n",
    "distance_list = distance[0].tolist()[1:]\n",
    "indice_list = indice[0].tolist()[1:]\n",
    "\n",
    "main_wine = wine_reviews_mincount.loc[wine_reviews_mincount['Name'] == name_test]\n",
    "\n",
    "print('Wine to match:', name_test)\n",
    "print('The original wine has the following descriptors:', list(main_wine['normalized_descriptors'])[0])\n",
    "print('_________')\n",
    "\n",
    "n = 1\n",
    "for d, i in zip(distance_list, indice_list):\n",
    "    wine_name = wine_reviews_mincount['Name'][i]\n",
    "    wine_descriptors = wine_reviews_mincount['normalized_descriptors'][i]\n",
    "    print('Suggestion', str(n), ':', wine_name, 'with a cosine distance of', \"{:.3f}\".format(d))\n",
    "    print('This wine has the following descriptors:', wine_descriptors)\n",
    "    print('')\n",
    "    n+=1"
   ]
  },
  {
   "cell_type": "markdown",
   "metadata": {},
   "source": [
    "Great! It appears that the wines being returned as suggestions are also California Pinot Noir wines. Interestingly, many of these wines are even from the Santa Barbara area. The distinctive profile of these wines appears to be captured well by our wine recommender model. The most surprising suggestion returned by our model is a Washington State Cabernet Sauvignon. This cold-climate Cabernet appears have many of the same descriptors (herbs, flower, cherry) as our original (warm-climate) Pinot Noir wine.\n",
    "\n",
    "Finally, we can also use our wine recommender model to return a suggestion for a wine based on a list of input descriptors. This could be helpful when looking for similarities between wines, or when searching for a particular flavor profile. "
   ]
  },
  {
   "cell_type": "code",
   "execution_count": 173,
   "metadata": {},
   "outputs": [
    {
     "name": "stdout",
     "output_type": "stream",
     "text": [
      "Suggestion 1 : Matetic 2009 EQ Sauvignon Blanc (San Antonio) with a cosine distance of 0.136\n",
      "This wine has the following descriptors: ['clean', 'citrus', 'nettle', 'bell_pepper', 'fresh', 'snappy', 'grass', 'tropical_fruit', 'fruit', 'lime', 'crisp']\n",
      "\n",
      "Suggestion 2 : Koyle 2011 Koyle Costa Sauvignon Blanc (Colchagua Costa) with a cosine distance of 0.138\n",
      "This wine has the following descriptors: ['snappy', 'bell_pepper', 'tangerine', 'grass', 'crisp', 'citrus', 'dry', 'lime', 'grapefruit', 'lemon', 'grapefruit', 'linear', 'high_acid']\n",
      "\n",
      "Suggestion 3 : 1+1=3 NV Brut Sparkling (Cava) with a cosine distance of 0.138\n",
      "This wine has the following descriptors: ['dust', 'citrus', 'fruit', 'zesty', 'fresh', 'lime', 'grass', 'fresh', 'apple', 'lime']\n",
      "\n",
      "Suggestion 4 : Emiliana 2014 Novas Gran Reserva Sauvignon Blanc (San Antonio) with a cosine distance of 0.139\n",
      "This wine has the following descriptors: ['grass', 'green', 'citrus', 'snappy', 'herb', 'grass', 'lime', 'tarragon', 'racy', 'vegetal', 'fresh']\n",
      "\n",
      "Suggestion 5 : Undurraga 2011 Sibaris Reserva Especial Sauvignon Blanc (Leyda Valley) with a cosine distance of 0.140\n",
      "This wine has the following descriptors: ['minerality', 'zesty', 'crisp', 'grass', 'lime', 'grapefruit', 'lemongrass', 'angular']\n",
      "\n"
     ]
    }
   ],
   "source": [
    "def descriptors_to_best_match_wines(list_of_descriptors, number_of_suggestions=10):\n",
    "    weighted_review_terms = []\n",
    "    for term in list_of_descriptors:\n",
    "        if term not in dict_of_tfidf_weightings:\n",
    "            if term not in descriptor_mapping.index:\n",
    "                print('choose a different descriptor from', term)\n",
    "                continue\n",
    "            else:\n",
    "                term = descriptor_mapping['normalized'][term]\n",
    "        tfidf_weighting = dict_of_tfidf_weightings[term]\n",
    "        word_vector = wine_word2vec_model.wv.get_vector(term).reshape(1, 300)\n",
    "        weighted_word_vector = tfidf_weighting * word_vector\n",
    "        weighted_review_terms.append(weighted_word_vector)\n",
    "    review_vector = sum(weighted_review_terms)\n",
    "    \n",
    "    distance, indice = model_knn.kneighbors(review_vector, n_neighbors=number_of_suggestions+1)\n",
    "    distance_list = distance[0].tolist()[1:]\n",
    "    indice_list = indice[0].tolist()[1:]\n",
    "\n",
    "    n = 1\n",
    "    for d, i in zip(distance_list, indice_list):\n",
    "        wine_name = wine_reviews_mincount['Name'][i]\n",
    "        wine_descriptors = wine_reviews_mincount['normalized_descriptors'][i]\n",
    "        print('Suggestion', str(n), ':', wine_name, 'with a cosine distance of', \"{:.3f}\".format(d))\n",
    "        print('This wine has the following descriptors:', wine_descriptors)\n",
    "        print('')\n",
    "        n+=1\n",
    "    \n",
    "descriptors = ['complex', 'high_acid', 'fresh', 'grass', 'lime']\n",
    "descriptors_to_best_match_wines(list_of_descriptors=descriptors, number_of_suggestions=5)"
   ]
  },
  {
   "cell_type": "markdown",
   "metadata": {},
   "source": [
    "When in the mood for a wine that is complex, acidic, fresh, grassy and limey, it appears that we should try a Chilean Sauvignon Blanc - 4 out of the 5 wines returned as suggestions fall in this category. Alternatively, a glass of Cava from Spain might hit the spot too.\n",
    "\n",
    "#### 6. Conclusion\n",
    "\n",
    "This notebook is an exercise in two parts. In the first part, we develop a robust method to generate a 'wine embedding' that captures all relevant information from a wine review, maps it onto a set of curated and standardized descriptors, assigns an embedding to each of these descriptors, weights each descriptor using a TF-IDF score and then aggregates the various descriptor vectors to produce a single 'wine embedding' for the full wine review. In the second part of this notebook, we start to explore ways in which we might use these newly created wine embeddings. One way to do this is through a wine recommender model, which measures the cosine distance between wine embeddings to make suggestions. Based on a few examples, we can see that the suggestions that are returned are remarkably consistent. This is a promising result that suggests there is much potential for wine embeddings to be used for future iterations of this work."
   ]
  }
 ],
 "metadata": {
  "kernelspec": {
   "display_name": "Python 3",
   "language": "python",
   "name": "python3"
  },
  "language_info": {
   "codemirror_mode": {
    "name": "ipython",
    "version": 3
   },
   "file_extension": ".py",
   "mimetype": "text/x-python",
   "name": "python",
   "nbconvert_exporter": "python",
   "pygments_lexer": "ipython3",
   "version": "3.6.7"
  }
 },
 "nbformat": 4,
 "nbformat_minor": 2
}
